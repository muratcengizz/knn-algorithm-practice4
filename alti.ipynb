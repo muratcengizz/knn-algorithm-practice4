{
 "cells": [
  {
   "cell_type": "code",
   "execution_count": 53,
   "id": "a9d2f937-2ff3-4b53-b4c9-2103c1bdf0a7",
   "metadata": {},
   "outputs": [],
   "source": [
    "import random\n",
    "import numpy as np\n",
    "import pandas as pd\n",
    "import seaborn as sns"
   ]
  },
  {
   "cell_type": "code",
   "execution_count": 54,
   "id": "d11608d9-03dd-421e-9417-bf0579df614d",
   "metadata": {},
   "outputs": [
    {
     "data": {
      "text/html": [
       "<div>\n",
       "<style scoped>\n",
       "    .dataframe tbody tr th:only-of-type {\n",
       "        vertical-align: middle;\n",
       "    }\n",
       "\n",
       "    .dataframe tbody tr th {\n",
       "        vertical-align: top;\n",
       "    }\n",
       "\n",
       "    .dataframe thead th {\n",
       "        text-align: right;\n",
       "    }\n",
       "</style>\n",
       "<table border=\"1\" class=\"dataframe\">\n",
       "  <thead>\n",
       "    <tr style=\"text-align: right;\">\n",
       "      <th></th>\n",
       "      <th>Okul</th>\n",
       "      <th>Okul Türü</th>\n",
       "      <th>Okul Konumu</th>\n",
       "      <th>Öğrenci İsmi</th>\n",
       "      <th>Öğrenci Yaşı</th>\n",
       "      <th>Öğrenci Cinsiyeti</th>\n",
       "      <th>Öğrenci Sınıfı</th>\n",
       "      <th>Ders Adı</th>\n",
       "      <th>Ders Notu</th>\n",
       "      <th>Öğretmen Adı</th>\n",
       "      <th>Öğretmen Branşı</th>\n",
       "      <th>Öğretmen Performansı</th>\n",
       "      <th>Aile Gelir Düzeyi</th>\n",
       "      <th>Aile Eğitim Seviyesi</th>\n",
       "    </tr>\n",
       "  </thead>\n",
       "  <tbody>\n",
       "    <tr>\n",
       "      <th>0</th>\n",
       "      <td>İzmir Fen Lisesi</td>\n",
       "      <td>Lise</td>\n",
       "      <td>Adana</td>\n",
       "      <td>Can</td>\n",
       "      <td>15</td>\n",
       "      <td>Erkek</td>\n",
       "      <td>11</td>\n",
       "      <td>Fizik</td>\n",
       "      <td>15</td>\n",
       "      <td>Fizik Öğretmeni</td>\n",
       "      <td>Fizik</td>\n",
       "      <td>88</td>\n",
       "      <td>90734</td>\n",
       "      <td>Lise</td>\n",
       "    </tr>\n",
       "    <tr>\n",
       "      <th>1</th>\n",
       "      <td>Bilkent Üniversitesi Koleji</td>\n",
       "      <td>Üniversite</td>\n",
       "      <td>Ankara</td>\n",
       "      <td>Ali</td>\n",
       "      <td>18</td>\n",
       "      <td>Erkek</td>\n",
       "      <td>11</td>\n",
       "      <td>Biyoloji</td>\n",
       "      <td>60</td>\n",
       "      <td>Biyoloji Öğretmeni</td>\n",
       "      <td>Biyoloji</td>\n",
       "      <td>14</td>\n",
       "      <td>6698</td>\n",
       "      <td>Üniversite</td>\n",
       "    </tr>\n",
       "    <tr>\n",
       "      <th>2</th>\n",
       "      <td>TED Ankara Koleji</td>\n",
       "      <td>Üniversite</td>\n",
       "      <td>Ankara</td>\n",
       "      <td>Deniz</td>\n",
       "      <td>16</td>\n",
       "      <td>Erkek</td>\n",
       "      <td>9</td>\n",
       "      <td>İngilizce</td>\n",
       "      <td>55</td>\n",
       "      <td>İngilizce Öğretmeni</td>\n",
       "      <td>İngilizce</td>\n",
       "      <td>79</td>\n",
       "      <td>50196</td>\n",
       "      <td>Lise</td>\n",
       "    </tr>\n",
       "    <tr>\n",
       "      <th>3</th>\n",
       "      <td>TED Ankara Koleji</td>\n",
       "      <td>Üniversite</td>\n",
       "      <td>Bursa</td>\n",
       "      <td>Ahmet</td>\n",
       "      <td>18</td>\n",
       "      <td>Kız</td>\n",
       "      <td>12</td>\n",
       "      <td>Türkçe</td>\n",
       "      <td>8</td>\n",
       "      <td>Türkçe Öğretmeni</td>\n",
       "      <td>Türkçe</td>\n",
       "      <td>75</td>\n",
       "      <td>16835</td>\n",
       "      <td>Ortaokul</td>\n",
       "    </tr>\n",
       "    <tr>\n",
       "      <th>4</th>\n",
       "      <td>Bilkent Üniversitesi Koleji</td>\n",
       "      <td>Kolej</td>\n",
       "      <td>İzmir</td>\n",
       "      <td>Deniz</td>\n",
       "      <td>17</td>\n",
       "      <td>Kız</td>\n",
       "      <td>11</td>\n",
       "      <td>Kimya</td>\n",
       "      <td>75</td>\n",
       "      <td>Kimya Öğretmeni</td>\n",
       "      <td>Kimya</td>\n",
       "      <td>40</td>\n",
       "      <td>27940</td>\n",
       "      <td>Lise</td>\n",
       "    </tr>\n",
       "  </tbody>\n",
       "</table>\n",
       "</div>"
      ],
      "text/plain": [
       "                          Okul   Okul Türü Okul Konumu Öğrenci İsmi  \\\n",
       "0             İzmir Fen Lisesi        Lise       Adana          Can   \n",
       "1  Bilkent Üniversitesi Koleji  Üniversite      Ankara          Ali   \n",
       "2            TED Ankara Koleji  Üniversite      Ankara        Deniz   \n",
       "3            TED Ankara Koleji  Üniversite       Bursa        Ahmet   \n",
       "4  Bilkent Üniversitesi Koleji       Kolej       İzmir        Deniz   \n",
       "\n",
       "   Öğrenci Yaşı Öğrenci Cinsiyeti  Öğrenci Sınıfı   Ders Adı  Ders Notu  \\\n",
       "0            15             Erkek              11      Fizik         15   \n",
       "1            18             Erkek              11   Biyoloji         60   \n",
       "2            16             Erkek               9  İngilizce         55   \n",
       "3            18               Kız              12     Türkçe          8   \n",
       "4            17               Kız              11      Kimya         75   \n",
       "\n",
       "          Öğretmen Adı Öğretmen Branşı  Öğretmen Performansı  \\\n",
       "0      Fizik Öğretmeni           Fizik                    88   \n",
       "1   Biyoloji Öğretmeni        Biyoloji                    14   \n",
       "2  İngilizce Öğretmeni       İngilizce                    79   \n",
       "3     Türkçe Öğretmeni          Türkçe                    75   \n",
       "4      Kimya Öğretmeni           Kimya                    40   \n",
       "\n",
       "   Aile Gelir Düzeyi Aile Eğitim Seviyesi  \n",
       "0              90734                 Lise  \n",
       "1               6698           Üniversite  \n",
       "2              50196                 Lise  \n",
       "3              16835             Ortaokul  \n",
       "4              27940                 Lise  "
      ]
     },
     "execution_count": 54,
     "metadata": {},
     "output_type": "execute_result"
    }
   ],
   "source": [
    "okullar = ['Ankara Lisesi', 'İzmir Fen Lisesi', 'Sınav Koleji', 'TED Ankara Koleji', 'Bilkent Üniversitesi Koleji']\n",
    "okul_turleri = ['Lise', 'Kolej', 'Üniversite']\n",
    "okul_konumlari = ['Ankara', 'İstanbul', 'İzmir', 'Bursa', 'Adana']\n",
    "ogrenci_isimleri = ['Ahmet', 'Mehmet', 'Ayşe', 'Fatma', 'Ali', 'Can', 'Ece', 'Deniz']\n",
    "ders_notlari = ['Matematik', 'Fizik', 'Kimya', 'Biyoloji', 'Türkçe', 'Sosyal Bilgiler', 'İngilizce']\n",
    "\n",
    "def random_data():\n",
    "    okul = random.choice(okullar)\n",
    "    okul_turu = random.choice(okul_turleri)\n",
    "    okul_konumu = random.choice(okul_konumlari)\n",
    "    ogrenci_isim = random.choice(ogrenci_isimleri)\n",
    "    ogrenci_yasi = random.randint(15, 18)\n",
    "    ogrenci_cinsiyet = random.choice(['Erkek', 'Kız'])\n",
    "    ogrenci_sinifi = random.randint(9, 12)\n",
    "    ders_notu = random.choice(ders_notlari)\n",
    "    ders_notu_puani = random.randint(0, 100)\n",
    "    ogretmen_adi = f'{ders_notu} Öğretmeni'\n",
    "    ogretmen_bransi = ders_notu\n",
    "    ogretmen_performansi = random.randint(0, 100)\n",
    "    aile_gelir_duzeyi = random.randint(0, 100000)\n",
    "    aile_egitim_seviyesi = random.choice(['İlkokul', 'Ortaokul', 'Lise', 'Üniversite'])\n",
    "    \n",
    "    \n",
    "    data = {\n",
    "    'Okul': okul,\n",
    "    'Okul Türü': okul_turu,\n",
    "    'Okul Konumu': okul_konumu,\n",
    "    'Öğrenci İsmi': ogrenci_isim,\n",
    "    'Öğrenci Yaşı': ogrenci_yasi,\n",
    "    'Öğrenci Cinsiyeti': ogrenci_cinsiyet,\n",
    "    'Öğrenci Sınıfı': ogrenci_sinifi,\n",
    "    'Ders Adı': ders_notu,\n",
    "    'Ders Notu': ders_notu_puani,\n",
    "    'Öğretmen Adı': ogretmen_adi,\n",
    "    'Öğretmen Branşı': ogretmen_bransi,\n",
    "    'Öğretmen Performansı': ogretmen_performansi,\n",
    "    'Aile Gelir Düzeyi': aile_gelir_duzeyi,\n",
    "    'Aile Eğitim Seviyesi': aile_egitim_seviyesi\n",
    "    }\n",
    "    return data\n",
    "\n",
    "\n",
    "dataset = [random_data() for element in range(1000)]\n",
    "dataset = pd.DataFrame(dataset)\n",
    "dataset.head()"
   ]
  },
  {
   "cell_type": "markdown",
   "id": "08446061-de2b-4b61-a107-98a99bce19d1",
   "metadata": {},
   "source": [
    "# Veri Analizi"
   ]
  },
  {
   "cell_type": "code",
   "execution_count": 55,
   "id": "c9ce647c-31c5-446f-a6b0-78c1ffb1908f",
   "metadata": {},
   "outputs": [
    {
     "data": {
      "text/html": [
       "<div>\n",
       "<style scoped>\n",
       "    .dataframe tbody tr th:only-of-type {\n",
       "        vertical-align: middle;\n",
       "    }\n",
       "\n",
       "    .dataframe tbody tr th {\n",
       "        vertical-align: top;\n",
       "    }\n",
       "\n",
       "    .dataframe thead th {\n",
       "        text-align: right;\n",
       "    }\n",
       "</style>\n",
       "<table border=\"1\" class=\"dataframe\">\n",
       "  <thead>\n",
       "    <tr style=\"text-align: right;\">\n",
       "      <th></th>\n",
       "      <th>count</th>\n",
       "      <th>mean</th>\n",
       "      <th>std</th>\n",
       "      <th>min</th>\n",
       "      <th>25%</th>\n",
       "      <th>50%</th>\n",
       "      <th>75%</th>\n",
       "      <th>max</th>\n",
       "    </tr>\n",
       "  </thead>\n",
       "  <tbody>\n",
       "    <tr>\n",
       "      <th>Öğrenci Yaşı</th>\n",
       "      <td>1000.0</td>\n",
       "      <td>16.483</td>\n",
       "      <td>1.124712</td>\n",
       "      <td>15.0</td>\n",
       "      <td>15.00</td>\n",
       "      <td>17.0</td>\n",
       "      <td>17.0</td>\n",
       "      <td>18.0</td>\n",
       "    </tr>\n",
       "    <tr>\n",
       "      <th>Öğrenci Sınıfı</th>\n",
       "      <td>1000.0</td>\n",
       "      <td>10.478</td>\n",
       "      <td>1.138777</td>\n",
       "      <td>9.0</td>\n",
       "      <td>9.00</td>\n",
       "      <td>10.0</td>\n",
       "      <td>12.0</td>\n",
       "      <td>12.0</td>\n",
       "    </tr>\n",
       "    <tr>\n",
       "      <th>Ders Notu</th>\n",
       "      <td>1000.0</td>\n",
       "      <td>49.251</td>\n",
       "      <td>28.192105</td>\n",
       "      <td>0.0</td>\n",
       "      <td>25.00</td>\n",
       "      <td>50.0</td>\n",
       "      <td>72.0</td>\n",
       "      <td>100.0</td>\n",
       "    </tr>\n",
       "    <tr>\n",
       "      <th>Öğretmen Performansı</th>\n",
       "      <td>1000.0</td>\n",
       "      <td>49.860</td>\n",
       "      <td>29.884435</td>\n",
       "      <td>0.0</td>\n",
       "      <td>24.00</td>\n",
       "      <td>50.0</td>\n",
       "      <td>76.0</td>\n",
       "      <td>100.0</td>\n",
       "    </tr>\n",
       "    <tr>\n",
       "      <th>Aile Gelir Düzeyi</th>\n",
       "      <td>1000.0</td>\n",
       "      <td>49720.682</td>\n",
       "      <td>28706.956806</td>\n",
       "      <td>17.0</td>\n",
       "      <td>26349.25</td>\n",
       "      <td>47565.0</td>\n",
       "      <td>75562.0</td>\n",
       "      <td>99825.0</td>\n",
       "    </tr>\n",
       "  </tbody>\n",
       "</table>\n",
       "</div>"
      ],
      "text/plain": [
       "                       count       mean           std   min       25%  \\\n",
       "Öğrenci Yaşı          1000.0     16.483      1.124712  15.0     15.00   \n",
       "Öğrenci Sınıfı        1000.0     10.478      1.138777   9.0      9.00   \n",
       "Ders Notu             1000.0     49.251     28.192105   0.0     25.00   \n",
       "Öğretmen Performansı  1000.0     49.860     29.884435   0.0     24.00   \n",
       "Aile Gelir Düzeyi     1000.0  49720.682  28706.956806  17.0  26349.25   \n",
       "\n",
       "                          50%      75%      max  \n",
       "Öğrenci Yaşı             17.0     17.0     18.0  \n",
       "Öğrenci Sınıfı           10.0     12.0     12.0  \n",
       "Ders Notu                50.0     72.0    100.0  \n",
       "Öğretmen Performansı     50.0     76.0    100.0  \n",
       "Aile Gelir Düzeyi     47565.0  75562.0  99825.0  "
      ]
     },
     "execution_count": 55,
     "metadata": {},
     "output_type": "execute_result"
    }
   ],
   "source": [
    "dataset.describe().T"
   ]
  },
  {
   "cell_type": "code",
   "execution_count": 56,
   "id": "b415a613-4276-474a-9161-34a22673fa53",
   "metadata": {},
   "outputs": [
    {
     "name": "stdout",
     "output_type": "stream",
     "text": [
      "<class 'pandas.core.frame.DataFrame'>\n",
      "RangeIndex: 1000 entries, 0 to 999\n",
      "Data columns (total 14 columns):\n",
      " #   Column                Non-Null Count  Dtype \n",
      "---  ------                --------------  ----- \n",
      " 0   Okul                  1000 non-null   object\n",
      " 1   Okul Türü             1000 non-null   object\n",
      " 2   Okul Konumu           1000 non-null   object\n",
      " 3   Öğrenci İsmi          1000 non-null   object\n",
      " 4   Öğrenci Yaşı          1000 non-null   int64 \n",
      " 5   Öğrenci Cinsiyeti     1000 non-null   object\n",
      " 6   Öğrenci Sınıfı        1000 non-null   int64 \n",
      " 7   Ders Adı              1000 non-null   object\n",
      " 8   Ders Notu             1000 non-null   int64 \n",
      " 9   Öğretmen Adı          1000 non-null   object\n",
      " 10  Öğretmen Branşı       1000 non-null   object\n",
      " 11  Öğretmen Performansı  1000 non-null   int64 \n",
      " 12  Aile Gelir Düzeyi     1000 non-null   int64 \n",
      " 13  Aile Eğitim Seviyesi  1000 non-null   object\n",
      "dtypes: int64(5), object(9)\n",
      "memory usage: 109.5+ KB\n"
     ]
    }
   ],
   "source": [
    "dataset.info()"
   ]
  },
  {
   "cell_type": "code",
   "execution_count": 57,
   "id": "e9ae739b-935a-43c0-93f5-6c1f01785ced",
   "metadata": {},
   "outputs": [
    {
     "data": {
      "text/html": [
       "<div>\n",
       "<style scoped>\n",
       "    .dataframe tbody tr th:only-of-type {\n",
       "        vertical-align: middle;\n",
       "    }\n",
       "\n",
       "    .dataframe tbody tr th {\n",
       "        vertical-align: top;\n",
       "    }\n",
       "\n",
       "    .dataframe thead th {\n",
       "        text-align: right;\n",
       "    }\n",
       "</style>\n",
       "<table border=\"1\" class=\"dataframe\">\n",
       "  <thead>\n",
       "    <tr style=\"text-align: right;\">\n",
       "      <th></th>\n",
       "      <th>Öğrenci Yaşı</th>\n",
       "      <th>Öğrenci Sınıfı</th>\n",
       "      <th>Ders Notu</th>\n",
       "      <th>Öğretmen Performansı</th>\n",
       "      <th>Aile Gelir Düzeyi</th>\n",
       "    </tr>\n",
       "  </thead>\n",
       "  <tbody>\n",
       "    <tr>\n",
       "      <th>Öğrenci Yaşı</th>\n",
       "      <td>1.000000</td>\n",
       "      <td>-0.028037</td>\n",
       "      <td>-0.048908</td>\n",
       "      <td>-0.027649</td>\n",
       "      <td>-0.003104</td>\n",
       "    </tr>\n",
       "    <tr>\n",
       "      <th>Öğrenci Sınıfı</th>\n",
       "      <td>-0.028037</td>\n",
       "      <td>1.000000</td>\n",
       "      <td>0.020548</td>\n",
       "      <td>-0.044447</td>\n",
       "      <td>-0.012093</td>\n",
       "    </tr>\n",
       "    <tr>\n",
       "      <th>Ders Notu</th>\n",
       "      <td>-0.048908</td>\n",
       "      <td>0.020548</td>\n",
       "      <td>1.000000</td>\n",
       "      <td>-0.023850</td>\n",
       "      <td>0.038981</td>\n",
       "    </tr>\n",
       "    <tr>\n",
       "      <th>Öğretmen Performansı</th>\n",
       "      <td>-0.027649</td>\n",
       "      <td>-0.044447</td>\n",
       "      <td>-0.023850</td>\n",
       "      <td>1.000000</td>\n",
       "      <td>-0.005997</td>\n",
       "    </tr>\n",
       "    <tr>\n",
       "      <th>Aile Gelir Düzeyi</th>\n",
       "      <td>-0.003104</td>\n",
       "      <td>-0.012093</td>\n",
       "      <td>0.038981</td>\n",
       "      <td>-0.005997</td>\n",
       "      <td>1.000000</td>\n",
       "    </tr>\n",
       "  </tbody>\n",
       "</table>\n",
       "</div>"
      ],
      "text/plain": [
       "                      Öğrenci Yaşı  Öğrenci Sınıfı  Ders Notu  \\\n",
       "Öğrenci Yaşı              1.000000       -0.028037  -0.048908   \n",
       "Öğrenci Sınıfı           -0.028037        1.000000   0.020548   \n",
       "Ders Notu                -0.048908        0.020548   1.000000   \n",
       "Öğretmen Performansı     -0.027649       -0.044447  -0.023850   \n",
       "Aile Gelir Düzeyi        -0.003104       -0.012093   0.038981   \n",
       "\n",
       "                      Öğretmen Performansı  Aile Gelir Düzeyi  \n",
       "Öğrenci Yaşı                     -0.027649          -0.003104  \n",
       "Öğrenci Sınıfı                   -0.044447          -0.012093  \n",
       "Ders Notu                        -0.023850           0.038981  \n",
       "Öğretmen Performansı              1.000000          -0.005997  \n",
       "Aile Gelir Düzeyi                -0.005997           1.000000  "
      ]
     },
     "execution_count": 57,
     "metadata": {},
     "output_type": "execute_result"
    }
   ],
   "source": [
    "dataset.corr()"
   ]
  },
  {
   "cell_type": "code",
   "execution_count": 58,
   "id": "6ed52c68-72d5-4d08-b8ee-01b3483863c0",
   "metadata": {},
   "outputs": [
    {
     "name": "stderr",
     "output_type": "stream",
     "text": [
      "C:\\Users\\murat\\AppData\\Local\\Temp\\ipykernel_14944\\2458428038.py:1: FutureWarning: Dropping of nuisance columns in DataFrame reductions (with 'numeric_only=None') is deprecated; in a future version this will raise TypeError.  Select only valid columns before calling the reduction.\n",
      "  dataset.var()\n"
     ]
    },
    {
     "data": {
      "text/plain": [
       "Öğrenci Yaşı            1.264976e+00\n",
       "Öğrenci Sınıfı          1.296813e+00\n",
       "Ders Notu               7.947948e+02\n",
       "Öğretmen Performansı    8.930795e+02\n",
       "Aile Gelir Düzeyi       8.240894e+08\n",
       "dtype: float64"
      ]
     },
     "execution_count": 58,
     "metadata": {},
     "output_type": "execute_result"
    }
   ],
   "source": [
    "dataset.var()"
   ]
  },
  {
   "cell_type": "code",
   "execution_count": 59,
   "id": "76939354-6567-4cc8-a3b6-3e73c50d2bf2",
   "metadata": {},
   "outputs": [
    {
     "data": {
      "text/plain": [
       "Okul                    0\n",
       "Okul Türü               0\n",
       "Okul Konumu             0\n",
       "Öğrenci İsmi            0\n",
       "Öğrenci Yaşı            0\n",
       "Öğrenci Cinsiyeti       0\n",
       "Öğrenci Sınıfı          0\n",
       "Ders Adı                0\n",
       "Ders Notu               0\n",
       "Öğretmen Adı            0\n",
       "Öğretmen Branşı         0\n",
       "Öğretmen Performansı    0\n",
       "Aile Gelir Düzeyi       0\n",
       "Aile Eğitim Seviyesi    0\n",
       "dtype: int64"
      ]
     },
     "execution_count": 59,
     "metadata": {},
     "output_type": "execute_result"
    }
   ],
   "source": [
    "dataset.isnull().sum()"
   ]
  },
  {
   "cell_type": "code",
   "execution_count": 60,
   "id": "bf5b0ec2-6a86-440c-85ea-e06db1a7b641",
   "metadata": {},
   "outputs": [
    {
     "data": {
      "image/png": "[encoded data removed]",
      "text/plain": [
       "<Figure size 432x288 with 1 Axes>"
      ]
     },
     "metadata": {
      "needs_background": "light"
     },
     "output_type": "display_data"
    }
   ],
   "source": [
    "sns.boxplot(data=dataset);"
   ]
  },
  {
   "cell_type": "code",
   "execution_count": 61,
   "id": "2e78677b-da73-4f25-b19c-94dc2a78b4c2",
   "metadata": {},
   "outputs": [
    {
     "data": {
      "text/html": [
       "<div>\n",
       "<style scoped>\n",
       "    .dataframe tbody tr th:only-of-type {\n",
       "        vertical-align: middle;\n",
       "    }\n",
       "\n",
       "    .dataframe tbody tr th {\n",
       "        vertical-align: top;\n",
       "    }\n",
       "\n",
       "    .dataframe thead th {\n",
       "        text-align: right;\n",
       "    }\n",
       "</style>\n",
       "<table border=\"1\" class=\"dataframe\">\n",
       "  <thead>\n",
       "    <tr style=\"text-align: right;\">\n",
       "      <th></th>\n",
       "      <th>Okul</th>\n",
       "      <th>Okul Türü</th>\n",
       "      <th>Okul Konumu</th>\n",
       "      <th>Öğrenci İsmi</th>\n",
       "      <th>Öğrenci Yaşı</th>\n",
       "      <th>Öğrenci Cinsiyeti</th>\n",
       "      <th>Öğrenci Sınıfı</th>\n",
       "      <th>Ders Adı</th>\n",
       "      <th>Ders Notu</th>\n",
       "      <th>Öğretmen Adı</th>\n",
       "      <th>Öğretmen Branşı</th>\n",
       "      <th>Öğretmen Performansı</th>\n",
       "      <th>Aile Gelir Düzeyi</th>\n",
       "      <th>Aile Eğitim Seviyesi</th>\n",
       "    </tr>\n",
       "  </thead>\n",
       "  <tbody>\n",
       "    <tr>\n",
       "      <th>0</th>\n",
       "      <td>İzmir Fen Lisesi</td>\n",
       "      <td>Lise</td>\n",
       "      <td>Adana</td>\n",
       "      <td>Can</td>\n",
       "      <td>15</td>\n",
       "      <td>Erkek</td>\n",
       "      <td>11</td>\n",
       "      <td>Fizik</td>\n",
       "      <td>15</td>\n",
       "      <td>Fizik Öğretmeni</td>\n",
       "      <td>Fizik</td>\n",
       "      <td>88</td>\n",
       "      <td>90734</td>\n",
       "      <td>Lise</td>\n",
       "    </tr>\n",
       "    <tr>\n",
       "      <th>1</th>\n",
       "      <td>Bilkent Üniversitesi Koleji</td>\n",
       "      <td>Üniversite</td>\n",
       "      <td>Ankara</td>\n",
       "      <td>Ali</td>\n",
       "      <td>18</td>\n",
       "      <td>Erkek</td>\n",
       "      <td>11</td>\n",
       "      <td>Biyoloji</td>\n",
       "      <td>60</td>\n",
       "      <td>Biyoloji Öğretmeni</td>\n",
       "      <td>Biyoloji</td>\n",
       "      <td>14</td>\n",
       "      <td>6698</td>\n",
       "      <td>Üniversite</td>\n",
       "    </tr>\n",
       "    <tr>\n",
       "      <th>2</th>\n",
       "      <td>TED Ankara Koleji</td>\n",
       "      <td>Üniversite</td>\n",
       "      <td>Ankara</td>\n",
       "      <td>Deniz</td>\n",
       "      <td>16</td>\n",
       "      <td>Erkek</td>\n",
       "      <td>9</td>\n",
       "      <td>İngilizce</td>\n",
       "      <td>55</td>\n",
       "      <td>İngilizce Öğretmeni</td>\n",
       "      <td>İngilizce</td>\n",
       "      <td>79</td>\n",
       "      <td>50196</td>\n",
       "      <td>Lise</td>\n",
       "    </tr>\n",
       "    <tr>\n",
       "      <th>3</th>\n",
       "      <td>TED Ankara Koleji</td>\n",
       "      <td>Üniversite</td>\n",
       "      <td>Bursa</td>\n",
       "      <td>Ahmet</td>\n",
       "      <td>18</td>\n",
       "      <td>Kız</td>\n",
       "      <td>12</td>\n",
       "      <td>Türkçe</td>\n",
       "      <td>8</td>\n",
       "      <td>Türkçe Öğretmeni</td>\n",
       "      <td>Türkçe</td>\n",
       "      <td>75</td>\n",
       "      <td>16835</td>\n",
       "      <td>Ortaokul</td>\n",
       "    </tr>\n",
       "    <tr>\n",
       "      <th>4</th>\n",
       "      <td>Bilkent Üniversitesi Koleji</td>\n",
       "      <td>Kolej</td>\n",
       "      <td>İzmir</td>\n",
       "      <td>Deniz</td>\n",
       "      <td>17</td>\n",
       "      <td>Kız</td>\n",
       "      <td>11</td>\n",
       "      <td>Kimya</td>\n",
       "      <td>75</td>\n",
       "      <td>Kimya Öğretmeni</td>\n",
       "      <td>Kimya</td>\n",
       "      <td>40</td>\n",
       "      <td>27940</td>\n",
       "      <td>Lise</td>\n",
       "    </tr>\n",
       "  </tbody>\n",
       "</table>\n",
       "</div>"
      ],
      "text/plain": [
       "                          Okul   Okul Türü Okul Konumu Öğrenci İsmi  \\\n",
       "0             İzmir Fen Lisesi        Lise       Adana          Can   \n",
       "1  Bilkent Üniversitesi Koleji  Üniversite      Ankara          Ali   \n",
       "2            TED Ankara Koleji  Üniversite      Ankara        Deniz   \n",
       "3            TED Ankara Koleji  Üniversite       Bursa        Ahmet   \n",
       "4  Bilkent Üniversitesi Koleji       Kolej       İzmir        Deniz   \n",
       "\n",
       "   Öğrenci Yaşı Öğrenci Cinsiyeti  Öğrenci Sınıfı   Ders Adı  Ders Notu  \\\n",
       "0            15             Erkek              11      Fizik         15   \n",
       "1            18             Erkek              11   Biyoloji         60   \n",
       "2            16             Erkek               9  İngilizce         55   \n",
       "3            18               Kız              12     Türkçe          8   \n",
       "4            17               Kız              11      Kimya         75   \n",
       "\n",
       "          Öğretmen Adı Öğretmen Branşı  Öğretmen Performansı  \\\n",
       "0      Fizik Öğretmeni           Fizik                    88   \n",
       "1   Biyoloji Öğretmeni        Biyoloji                    14   \n",
       "2  İngilizce Öğretmeni       İngilizce                    79   \n",
       "3     Türkçe Öğretmeni          Türkçe                    75   \n",
       "4      Kimya Öğretmeni           Kimya                    40   \n",
       "\n",
       "   Aile Gelir Düzeyi Aile Eğitim Seviyesi  \n",
       "0              90734                 Lise  \n",
       "1               6698           Üniversite  \n",
       "2              50196                 Lise  \n",
       "3              16835             Ortaokul  \n",
       "4              27940                 Lise  "
      ]
     },
     "execution_count": 61,
     "metadata": {},
     "output_type": "execute_result"
    }
   ],
   "source": [
    "dataset.head()"
   ]
  },
  {
   "cell_type": "markdown",
   "id": "1d6d1da1-c440-4427-8eaf-c44e5c2ca168",
   "metadata": {},
   "source": [
    "# Veri Ön İşleme"
   ]
  },
  {
   "cell_type": "code",
   "execution_count": 62,
   "id": "0c3f74f3-9ad0-419a-8f25-29a64422b0c4",
   "metadata": {},
   "outputs": [],
   "source": [
    "# Veri setindeki Öğretmen Branşı isimli değişkeni gereksiz gördüğüm için çıkartacağım.\n",
    "dataset.drop('Öğretmen Branşı', axis=1, inplace=True)"
   ]
  },
  {
   "cell_type": "markdown",
   "id": "6cf7cf67-f5f6-4cfc-aca3-f22f841f6fa0",
   "metadata": {},
   "source": [
    "### Kategorik değişkenleri sayısal değişkenlere dönüştüreceğiz. Bu dönüşüm işlemini bu şekilde yapmamın sebebi değişkenlerde bulunan sınıflara değeri kendim atayabilmek. Model oluşturma işleminden sonra tahmin işlemi yaparken dönüştürme işleminde lazım olacak. Bu yöntem dışında sklearn.preprocessing.LabelEncoder fonksiyonu ile de rahatlıkla yapabilirdik."
   ]
  },
  {
   "cell_type": "code",
   "execution_count": 63,
   "id": "c8eb9b62-adfa-41a3-8932-9abc8f8d93d3",
   "metadata": {},
   "outputs": [],
   "source": [
    "dataset['Okul'].unique()\n",
    "dataset['Okul'] = dataset['Okul'].map({'Ankara Lisesi':0, 'Bilkent Üniversitesi Koleji':1, 'TED Ankara Koleji':2, 'İzmir Fen Lisesi':3, 'Sınav Koleji':4})"
   ]
  },
  {
   "cell_type": "code",
   "execution_count": 64,
   "id": "9aeebc4d-d8b9-4c70-aaff-366ae9fa2103",
   "metadata": {},
   "outputs": [],
   "source": [
    "dataset['Okul Türü'].unique()\n",
    "dataset['Okul Türü'] = dataset['Okul Türü'].map({'Üniversite':0, 'Kolej':1, 'Lise':2})"
   ]
  },
  {
   "cell_type": "code",
   "execution_count": 65,
   "id": "e0120416-cd3a-4c11-b153-26e0d62dfc83",
   "metadata": {},
   "outputs": [],
   "source": [
    "dataset['Okul Konumu'].unique()\n",
    "dataset['Okul Konumu'] = dataset['Okul Konumu'].map({'Adana':0, 'İzmir':1, 'İstanbul':2, 'Ankara':3, 'Bursa':4})"
   ]
  },
  {
   "cell_type": "code",
   "execution_count": 66,
   "id": "c459ef9d-a7f0-4be8-9d09-aa54b902e1c6",
   "metadata": {},
   "outputs": [],
   "source": [
    "dataset['Öğrenci İsmi'].unique()\n",
    "dataset['Öğrenci İsmi'] = dataset['Öğrenci İsmi'].map({'Ayşe':0, 'Ahmet':1, 'Ece':2, 'Deniz':3, 'Fatma':4, 'Mehmet':5, 'Can':6, 'Ali':7})"
   ]
  },
  {
   "cell_type": "code",
   "execution_count": 67,
   "id": "7b71e687-4665-4186-a495-a8c39a6447fd",
   "metadata": {},
   "outputs": [],
   "source": [
    "dataset['Öğrenci Cinsiyeti'].unique()\n",
    "dataset['Öğrenci Cinsiyeti'] = dataset['Öğrenci Cinsiyeti'].map({'Kız':0, 'Erkek':1})"
   ]
  },
  {
   "cell_type": "code",
   "execution_count": 68,
   "id": "512c2c70-f832-4cac-b5e8-78bfb51c6ed8",
   "metadata": {},
   "outputs": [],
   "source": [
    "dataset['Ders Adı'].unique()\n",
    "dataset['Ders Adı'] = dataset['Ders Adı'].map({'İngilizce':0, 'Biyoloji':1, 'Matematik':2, 'Türkçe':3, 'Fizik':4, 'Kimya':5, 'Sosyal Bilgiler':6})"
   ]
  },
  {
   "cell_type": "code",
   "execution_count": 69,
   "id": "4e159423-4a06-4235-8f12-163c5d924292",
   "metadata": {},
   "outputs": [],
   "source": [
    "dataset['Öğretmen Adı'].unique()\n",
    "dataset['Öğretmen Adı'] = dataset['Öğretmen Adı'].map({'İngilizce Öğretmeni':0, 'Biyoloji Öğretmeni':1, 'Matematik Öğretmeni':2, 'Türkçe Öğretmeni':3, 'Fizik Öğretmeni':4, 'Kimya Öğretmeni':5, 'Sosyal Bilgiler Öğretmeni': 6})"
   ]
  },
  {
   "cell_type": "code",
   "execution_count": 70,
   "id": "a3d21dbf-c15d-4a47-9b9b-92e9d740a92a",
   "metadata": {},
   "outputs": [],
   "source": [
    "dataset['Aile Eğitim Seviyesi'].unique()\n",
    "dataset['Aile Eğitim Seviyesi'] = dataset['Aile Eğitim Seviyesi'].map({'İlkokul':0, 'Ortaokul':1, 'Lise':2, 'Üniversite':3})"
   ]
  },
  {
   "cell_type": "code",
   "execution_count": 71,
   "id": "7bdcac0e-b13b-482e-943e-a2142d53a6c7",
   "metadata": {},
   "outputs": [
    {
     "data": {
      "text/html": [
       "<div>\n",
       "<style scoped>\n",
       "    .dataframe tbody tr th:only-of-type {\n",
       "        vertical-align: middle;\n",
       "    }\n",
       "\n",
       "    .dataframe tbody tr th {\n",
       "        vertical-align: top;\n",
       "    }\n",
       "\n",
       "    .dataframe thead th {\n",
       "        text-align: right;\n",
       "    }\n",
       "</style>\n",
       "<table border=\"1\" class=\"dataframe\">\n",
       "  <thead>\n",
       "    <tr style=\"text-align: right;\">\n",
       "      <th></th>\n",
       "      <th>Okul</th>\n",
       "      <th>Okul Türü</th>\n",
       "      <th>Okul Konumu</th>\n",
       "      <th>Öğrenci İsmi</th>\n",
       "      <th>Öğrenci Yaşı</th>\n",
       "      <th>Öğrenci Cinsiyeti</th>\n",
       "      <th>Öğrenci Sınıfı</th>\n",
       "      <th>Ders Adı</th>\n",
       "      <th>Ders Notu</th>\n",
       "      <th>Öğretmen Adı</th>\n",
       "      <th>Öğretmen Performansı</th>\n",
       "      <th>Aile Gelir Düzeyi</th>\n",
       "      <th>Aile Eğitim Seviyesi</th>\n",
       "    </tr>\n",
       "  </thead>\n",
       "  <tbody>\n",
       "    <tr>\n",
       "      <th>0</th>\n",
       "      <td>3</td>\n",
       "      <td>2</td>\n",
       "      <td>0</td>\n",
       "      <td>6</td>\n",
       "      <td>15</td>\n",
       "      <td>1</td>\n",
       "      <td>11</td>\n",
       "      <td>4</td>\n",
       "      <td>15</td>\n",
       "      <td>4</td>\n",
       "      <td>88</td>\n",
       "      <td>90734</td>\n",
       "      <td>2</td>\n",
       "    </tr>\n",
       "    <tr>\n",
       "      <th>1</th>\n",
       "      <td>1</td>\n",
       "      <td>0</td>\n",
       "      <td>3</td>\n",
       "      <td>7</td>\n",
       "      <td>18</td>\n",
       "      <td>1</td>\n",
       "      <td>11</td>\n",
       "      <td>1</td>\n",
       "      <td>60</td>\n",
       "      <td>1</td>\n",
       "      <td>14</td>\n",
       "      <td>6698</td>\n",
       "      <td>3</td>\n",
       "    </tr>\n",
       "    <tr>\n",
       "      <th>2</th>\n",
       "      <td>2</td>\n",
       "      <td>0</td>\n",
       "      <td>3</td>\n",
       "      <td>3</td>\n",
       "      <td>16</td>\n",
       "      <td>1</td>\n",
       "      <td>9</td>\n",
       "      <td>0</td>\n",
       "      <td>55</td>\n",
       "      <td>0</td>\n",
       "      <td>79</td>\n",
       "      <td>50196</td>\n",
       "      <td>2</td>\n",
       "    </tr>\n",
       "    <tr>\n",
       "      <th>3</th>\n",
       "      <td>2</td>\n",
       "      <td>0</td>\n",
       "      <td>4</td>\n",
       "      <td>1</td>\n",
       "      <td>18</td>\n",
       "      <td>0</td>\n",
       "      <td>12</td>\n",
       "      <td>3</td>\n",
       "      <td>8</td>\n",
       "      <td>3</td>\n",
       "      <td>75</td>\n",
       "      <td>16835</td>\n",
       "      <td>1</td>\n",
       "    </tr>\n",
       "    <tr>\n",
       "      <th>4</th>\n",
       "      <td>1</td>\n",
       "      <td>1</td>\n",
       "      <td>1</td>\n",
       "      <td>3</td>\n",
       "      <td>17</td>\n",
       "      <td>0</td>\n",
       "      <td>11</td>\n",
       "      <td>5</td>\n",
       "      <td>75</td>\n",
       "      <td>5</td>\n",
       "      <td>40</td>\n",
       "      <td>27940</td>\n",
       "      <td>2</td>\n",
       "    </tr>\n",
       "  </tbody>\n",
       "</table>\n",
       "</div>"
      ],
      "text/plain": [
       "   Okul  Okul Türü  Okul Konumu  Öğrenci İsmi  Öğrenci Yaşı  \\\n",
       "0     3          2            0             6            15   \n",
       "1     1          0            3             7            18   \n",
       "2     2          0            3             3            16   \n",
       "3     2          0            4             1            18   \n",
       "4     1          1            1             3            17   \n",
       "\n",
       "   Öğrenci Cinsiyeti  Öğrenci Sınıfı  Ders Adı  Ders Notu  Öğretmen Adı  \\\n",
       "0                  1              11         4         15             4   \n",
       "1                  1              11         1         60             1   \n",
       "2                  1               9         0         55             0   \n",
       "3                  0              12         3          8             3   \n",
       "4                  0              11         5         75             5   \n",
       "\n",
       "   Öğretmen Performansı  Aile Gelir Düzeyi  Aile Eğitim Seviyesi  \n",
       "0                    88              90734                     2  \n",
       "1                    14               6698                     3  \n",
       "2                    79              50196                     2  \n",
       "3                    75              16835                     1  \n",
       "4                    40              27940                     2  "
      ]
     },
     "execution_count": 71,
     "metadata": {},
     "output_type": "execute_result"
    }
   ],
   "source": [
    "dataset.head()"
   ]
  },
  {
   "cell_type": "markdown",
   "id": "0375f640-1a93-4938-9f9a-b81e4d8333fa",
   "metadata": {},
   "source": [
    "# Hipotez Testleri"
   ]
  },
  {
   "cell_type": "markdown",
   "id": "b3ee8c9a-c35e-425a-90ec-7ce67b04974e",
   "metadata": {},
   "source": [
    "### H0: Okul ve okulun konumu öğretmen performansını etkilemez.\n",
    "### H1: Okul ve okulun konumu öğretmen performansını etkiler."
   ]
  },
  {
   "cell_type": "code",
   "execution_count": 72,
   "id": "1a2146a3-7e7f-4ed2-a1a2-642aadcef7c3",
   "metadata": {},
   "outputs": [],
   "source": [
    "okul = dataset.groupby('Okul')['Öğretmen Performansı'].mean()\n",
    "okul_konum = dataset.groupby('Okul Konumu')['Öğretmen Performansı'].mean()"
   ]
  },
  {
   "cell_type": "markdown",
   "id": "45f57dc9-5362-4187-b093-62848aae0df1",
   "metadata": {},
   "source": [
    "### Varsayımlar üzerinden hangi hipotez testini yapacağımıza karar verelim."
   ]
  },
  {
   "cell_type": "code",
   "execution_count": 73,
   "id": "1cea6fcb-fd96-4637-8cc6-eea7d602798f",
   "metadata": {},
   "outputs": [
    {
     "name": "stdout",
     "output_type": "stream",
     "text": [
      "Okula bağlı öğretmen performansı verileri normal dağılıyor.\n",
      "Okul konumuna bağlı öğretmen performansı verileri normal dağılıyor.\n"
     ]
    }
   ],
   "source": [
    "# Normallik Varsayımı\n",
    "from scipy.stats import shapiro\n",
    "alpha = 0.05\n",
    "\n",
    "stat, p_value = shapiro(okul)\n",
    "if p_value < alpha:\n",
    "    print('Okula bağlı öğretmen performansı verileri normal dağılmıyor.')\n",
    "else:\n",
    "    print('Okula bağlı öğretmen performansı verileri normal dağılıyor.')\n",
    "\n",
    "stat, p_value = shapiro(okul_konum)\n",
    "if p_value < alpha:\n",
    "    print('Okul konumuna bağlı öğretmen performansı verileri normal dağılmıyor.')\n",
    "else:\n",
    "    print('Okul konumuna bağlı öğretmen performansı verileri normal dağılıyor.')"
   ]
  },
  {
   "cell_type": "code",
   "execution_count": 74,
   "id": "be46550f-3f11-44ab-9a9e-7701f6669034",
   "metadata": {},
   "outputs": [
    {
     "name": "stdout",
     "output_type": "stream",
     "text": [
      "Varyanslar homojendir.\n"
     ]
    }
   ],
   "source": [
    "# Varyans Homojenliği Testi\n",
    "from scipy.stats import levene\n",
    "\n",
    "stat, p_value = levene(okul, okul_konum)\n",
    "\n",
    "alpha = 0.05\n",
    "if p_value < alpha:\n",
    "    print('Varyanslar homojen değil.')\n",
    "else:\n",
    "    print('Varyanslar homojendir.')"
   ]
  },
  {
   "cell_type": "markdown",
   "id": "877167c1-fc68-4911-8fb2-0eade0346f1d",
   "metadata": {},
   "source": [
    "### Çıkan sonuçlara göre, parametrik test yapabiliriz. Parametrik testlerden hangisinin bizim için uygun olduğunu belirlememiz gerekiyor. Burada iki farklı özellik arasında bir ilişki olup olmadığını öğrenmek istediğimiz için korelasyon testi yapabiliriz. Pearson Korelasyon testi yapacağız."
   ]
  },
  {
   "cell_type": "code",
   "execution_count": 75,
   "id": "c22b81cf-c409-45e6-9b37-3b4f479a8391",
   "metadata": {},
   "outputs": [
    {
     "name": "stdout",
     "output_type": "stream",
     "text": [
      "İstatistik Değeri:  -0.2471293330185394\n",
      "P-Value:  0.6885779752825698\n",
      "---------------------------------\n",
      "H0 hipotezi reddedilmez. Okul ve okulun konumu öğretmen performansını etkilemez.\n"
     ]
    }
   ],
   "source": [
    "from scipy.stats import pearsonr\n",
    "\n",
    "stat, p_value = pearsonr(okul, okul_konum)\n",
    "print('İstatistik Değeri: ', stat)\n",
    "print('P-Value: ', p_value)\n",
    "print('---------------------------------')\n",
    "\n",
    "alpha = 0.05\n",
    "if p_value < alpha:\n",
    "    print('H0 hipotezi reddedilir. Okul ve okulun konumu öğretmen performansını etkiler.')\n",
    "else:\n",
    "    print('H0 hipotezi reddedilmez. Okul ve okulun konumu öğretmen performansını etkilemez.')"
   ]
  },
  {
   "cell_type": "code",
   "execution_count": 76,
   "id": "af5dcc64-ab07-4d6e-989a-4d10769e3f04",
   "metadata": {},
   "outputs": [
    {
     "data": {
      "text/plain": [
       "(49.82262204726069, 49.79049387096502)"
      ]
     },
     "execution_count": 76,
     "metadata": {},
     "output_type": "execute_result"
    }
   ],
   "source": [
    "# Hipotez testi sonucumuzun sağlamasını yapalım.\n",
    "okul.mean(), okul_konum.mean()"
   ]
  },
  {
   "cell_type": "markdown",
   "id": "bfe592f8-219d-4ffa-bad9-1766ca688de8",
   "metadata": {},
   "source": [
    "# --------------------------------------------------------------------------"
   ]
  },
  {
   "cell_type": "code",
   "execution_count": 77,
   "id": "d6613d5d-51c4-4e17-a1e4-607d4df455ac",
   "metadata": {},
   "outputs": [
    {
     "data": {
      "text/html": [
       "<div>\n",
       "<style scoped>\n",
       "    .dataframe tbody tr th:only-of-type {\n",
       "        vertical-align: middle;\n",
       "    }\n",
       "\n",
       "    .dataframe tbody tr th {\n",
       "        vertical-align: top;\n",
       "    }\n",
       "\n",
       "    .dataframe thead th {\n",
       "        text-align: right;\n",
       "    }\n",
       "</style>\n",
       "<table border=\"1\" class=\"dataframe\">\n",
       "  <thead>\n",
       "    <tr style=\"text-align: right;\">\n",
       "      <th></th>\n",
       "      <th>Okul</th>\n",
       "      <th>Okul Türü</th>\n",
       "      <th>Okul Konumu</th>\n",
       "      <th>Öğrenci İsmi</th>\n",
       "      <th>Öğrenci Yaşı</th>\n",
       "      <th>Öğrenci Cinsiyeti</th>\n",
       "      <th>Öğrenci Sınıfı</th>\n",
       "      <th>Ders Adı</th>\n",
       "      <th>Ders Notu</th>\n",
       "      <th>Öğretmen Adı</th>\n",
       "      <th>Öğretmen Performansı</th>\n",
       "      <th>Aile Gelir Düzeyi</th>\n",
       "      <th>Aile Eğitim Seviyesi</th>\n",
       "    </tr>\n",
       "  </thead>\n",
       "  <tbody>\n",
       "    <tr>\n",
       "      <th>0</th>\n",
       "      <td>3</td>\n",
       "      <td>2</td>\n",
       "      <td>0</td>\n",
       "      <td>6</td>\n",
       "      <td>15</td>\n",
       "      <td>1</td>\n",
       "      <td>11</td>\n",
       "      <td>4</td>\n",
       "      <td>15</td>\n",
       "      <td>4</td>\n",
       "      <td>88</td>\n",
       "      <td>90734</td>\n",
       "      <td>2</td>\n",
       "    </tr>\n",
       "    <tr>\n",
       "      <th>1</th>\n",
       "      <td>1</td>\n",
       "      <td>0</td>\n",
       "      <td>3</td>\n",
       "      <td>7</td>\n",
       "      <td>18</td>\n",
       "      <td>1</td>\n",
       "      <td>11</td>\n",
       "      <td>1</td>\n",
       "      <td>60</td>\n",
       "      <td>1</td>\n",
       "      <td>14</td>\n",
       "      <td>6698</td>\n",
       "      <td>3</td>\n",
       "    </tr>\n",
       "    <tr>\n",
       "      <th>2</th>\n",
       "      <td>2</td>\n",
       "      <td>0</td>\n",
       "      <td>3</td>\n",
       "      <td>3</td>\n",
       "      <td>16</td>\n",
       "      <td>1</td>\n",
       "      <td>9</td>\n",
       "      <td>0</td>\n",
       "      <td>55</td>\n",
       "      <td>0</td>\n",
       "      <td>79</td>\n",
       "      <td>50196</td>\n",
       "      <td>2</td>\n",
       "    </tr>\n",
       "    <tr>\n",
       "      <th>3</th>\n",
       "      <td>2</td>\n",
       "      <td>0</td>\n",
       "      <td>4</td>\n",
       "      <td>1</td>\n",
       "      <td>18</td>\n",
       "      <td>0</td>\n",
       "      <td>12</td>\n",
       "      <td>3</td>\n",
       "      <td>8</td>\n",
       "      <td>3</td>\n",
       "      <td>75</td>\n",
       "      <td>16835</td>\n",
       "      <td>1</td>\n",
       "    </tr>\n",
       "    <tr>\n",
       "      <th>4</th>\n",
       "      <td>1</td>\n",
       "      <td>1</td>\n",
       "      <td>1</td>\n",
       "      <td>3</td>\n",
       "      <td>17</td>\n",
       "      <td>0</td>\n",
       "      <td>11</td>\n",
       "      <td>5</td>\n",
       "      <td>75</td>\n",
       "      <td>5</td>\n",
       "      <td>40</td>\n",
       "      <td>27940</td>\n",
       "      <td>2</td>\n",
       "    </tr>\n",
       "  </tbody>\n",
       "</table>\n",
       "</div>"
      ],
      "text/plain": [
       "   Okul  Okul Türü  Okul Konumu  Öğrenci İsmi  Öğrenci Yaşı  \\\n",
       "0     3          2            0             6            15   \n",
       "1     1          0            3             7            18   \n",
       "2     2          0            3             3            16   \n",
       "3     2          0            4             1            18   \n",
       "4     1          1            1             3            17   \n",
       "\n",
       "   Öğrenci Cinsiyeti  Öğrenci Sınıfı  Ders Adı  Ders Notu  Öğretmen Adı  \\\n",
       "0                  1              11         4         15             4   \n",
       "1                  1              11         1         60             1   \n",
       "2                  1               9         0         55             0   \n",
       "3                  0              12         3          8             3   \n",
       "4                  0              11         5         75             5   \n",
       "\n",
       "   Öğretmen Performansı  Aile Gelir Düzeyi  Aile Eğitim Seviyesi  \n",
       "0                    88              90734                     2  \n",
       "1                    14               6698                     3  \n",
       "2                    79              50196                     2  \n",
       "3                    75              16835                     1  \n",
       "4                    40              27940                     2  "
      ]
     },
     "execution_count": 77,
     "metadata": {},
     "output_type": "execute_result"
    }
   ],
   "source": [
    "dataset.head()"
   ]
  },
  {
   "cell_type": "markdown",
   "id": "8bc22400-478c-4c3b-8aee-e973d977f89f",
   "metadata": {},
   "source": [
    "### H0: Kız öğrencilerin notu, erkek öğrencilerin notundan yüksek değildir.\n",
    "### H1: Kız öğrencilerin notu, erkek öğrencilerin notundan yüksektir."
   ]
  },
  {
   "cell_type": "code",
   "execution_count": 78,
   "id": "31367e6c-71df-4da5-8032-4e8f5e759f33",
   "metadata": {},
   "outputs": [],
   "source": [
    "# örneklemlerimizi oluşturalım.\n",
    "erkek = dataset.loc[dataset['Öğrenci Cinsiyeti'] == 1, 'Ders Notu']\n",
    "kiz = dataset.loc[dataset['Öğrenci Cinsiyeti'] == 0, 'Ders Notu']"
   ]
  },
  {
   "cell_type": "markdown",
   "id": "0768ac37-690b-43a3-b5ee-88a276a1dc03",
   "metadata": {},
   "source": [
    "### Varsayımlar üzerinden hangi hipotez testini seçeceğimiz belirleyelim."
   ]
  },
  {
   "cell_type": "code",
   "execution_count": 79,
   "id": "91e47697-e80e-4f7c-9de6-0966aeb48635",
   "metadata": {},
   "outputs": [
    {
     "name": "stdout",
     "output_type": "stream",
     "text": [
      "erkek isimli örneklem normal dağılmıyor.\n",
      "kiz isimli örneklem normal dağılmıyor.\n"
     ]
    }
   ],
   "source": [
    "# Normallik Varsayımı\n",
    "from scipy.stats import shapiro\n",
    "alpha = 0.05\n",
    "\n",
    "stat, p_value = shapiro(erkek)\n",
    "if p_value < alpha:\n",
    "    print('erkek isimli örneklem normal dağılmıyor.')\n",
    "else:\n",
    "    print('kiz isimli örneklem normal dağılıyor.')\n",
    "    \n",
    "stat, p_value = shapiro(kiz)\n",
    "if p_value < alpha:\n",
    "    print('kiz isimli örneklem normal dağılmıyor.')\n",
    "else:\n",
    "    print('kiz isimli örneklem normal dağılıyor.')"
   ]
  },
  {
   "cell_type": "markdown",
   "id": "a3044014-1f61-42af-8b1d-7cef10895da1",
   "metadata": {},
   "source": [
    "### Örneklemler normal dağılım varsayımına uymadığı için non-parametrik test uygulayacağız. Bu testlerden kendimiz için uygun olanı seçmeliyiz. Bu senaryo için Mann Whitney U testini yapabiliriz. Bu test, iki farklı örneklem arasında bir fark olup olmadığını inceler."
   ]
  },
  {
   "cell_type": "code",
   "execution_count": 80,
   "id": "4034d249-3f1d-4925-8405-ef96dc4c1012",
   "metadata": {},
   "outputs": [
    {
     "name": "stdout",
     "output_type": "stream",
     "text": [
      "İstatistik Değeri:  115221.0\n",
      "P-Value:  0.03700390199825934\n",
      "H0 hipotezi reddedilir. Kız öğrencilerin notu, erkek öğrencilerin notundan yüksektir.\n"
     ]
    }
   ],
   "source": [
    "from scipy.stats import mannwhitneyu\n",
    "alpha = 0.05\n",
    "\n",
    "stat, p_value = mannwhitneyu(kiz, erkek)\n",
    "print('İstatistik Değeri: ', stat)\n",
    "print('P-Value: ', p_value)\n",
    "\n",
    "if p_value < alpha:\n",
    "    print('H0 hipotezi reddedilir. Kız öğrencilerin notu, erkek öğrencilerin notundan yüksektir.')\n",
    "else:\n",
    "    print('H0 hipotezi reddedilmez. Kız öğrencilerin notu, erkek öğrencilerin notundan yüksek değildir.')"
   ]
  },
  {
   "cell_type": "code",
   "execution_count": 81,
   "id": "333a8cf4-34c6-4f5c-847e-501bce106e46",
   "metadata": {},
   "outputs": [
    {
     "data": {
      "text/plain": [
       "(51.21383647798742, 47.460803059273424)"
      ]
     },
     "execution_count": 81,
     "metadata": {},
     "output_type": "execute_result"
    }
   ],
   "source": [
    "# Test sonucunun sağlamasını yapalım.\n",
    "erkek.mean(), kiz.mean()"
   ]
  },
  {
   "cell_type": "markdown",
   "id": "49c009fd-7bbf-47a3-bfe7-15debc4596c6",
   "metadata": {},
   "source": [
    "# --------------------------------------------------------------"
   ]
  },
  {
   "cell_type": "code",
   "execution_count": 82,
   "id": "65c0521d-23ff-4fb3-9289-bf0441c2b4a0",
   "metadata": {},
   "outputs": [
    {
     "data": {
      "text/html": [
       "<div>\n",
       "<style scoped>\n",
       "    .dataframe tbody tr th:only-of-type {\n",
       "        vertical-align: middle;\n",
       "    }\n",
       "\n",
       "    .dataframe tbody tr th {\n",
       "        vertical-align: top;\n",
       "    }\n",
       "\n",
       "    .dataframe thead th {\n",
       "        text-align: right;\n",
       "    }\n",
       "</style>\n",
       "<table border=\"1\" class=\"dataframe\">\n",
       "  <thead>\n",
       "    <tr style=\"text-align: right;\">\n",
       "      <th></th>\n",
       "      <th>Okul</th>\n",
       "      <th>Okul Türü</th>\n",
       "      <th>Okul Konumu</th>\n",
       "      <th>Öğrenci İsmi</th>\n",
       "      <th>Öğrenci Yaşı</th>\n",
       "      <th>Öğrenci Cinsiyeti</th>\n",
       "      <th>Öğrenci Sınıfı</th>\n",
       "      <th>Ders Adı</th>\n",
       "      <th>Ders Notu</th>\n",
       "      <th>Öğretmen Adı</th>\n",
       "      <th>Öğretmen Performansı</th>\n",
       "      <th>Aile Gelir Düzeyi</th>\n",
       "      <th>Aile Eğitim Seviyesi</th>\n",
       "    </tr>\n",
       "  </thead>\n",
       "  <tbody>\n",
       "    <tr>\n",
       "      <th>0</th>\n",
       "      <td>3</td>\n",
       "      <td>2</td>\n",
       "      <td>0</td>\n",
       "      <td>6</td>\n",
       "      <td>15</td>\n",
       "      <td>1</td>\n",
       "      <td>11</td>\n",
       "      <td>4</td>\n",
       "      <td>15</td>\n",
       "      <td>4</td>\n",
       "      <td>88</td>\n",
       "      <td>90734</td>\n",
       "      <td>2</td>\n",
       "    </tr>\n",
       "    <tr>\n",
       "      <th>1</th>\n",
       "      <td>1</td>\n",
       "      <td>0</td>\n",
       "      <td>3</td>\n",
       "      <td>7</td>\n",
       "      <td>18</td>\n",
       "      <td>1</td>\n",
       "      <td>11</td>\n",
       "      <td>1</td>\n",
       "      <td>60</td>\n",
       "      <td>1</td>\n",
       "      <td>14</td>\n",
       "      <td>6698</td>\n",
       "      <td>3</td>\n",
       "    </tr>\n",
       "    <tr>\n",
       "      <th>2</th>\n",
       "      <td>2</td>\n",
       "      <td>0</td>\n",
       "      <td>3</td>\n",
       "      <td>3</td>\n",
       "      <td>16</td>\n",
       "      <td>1</td>\n",
       "      <td>9</td>\n",
       "      <td>0</td>\n",
       "      <td>55</td>\n",
       "      <td>0</td>\n",
       "      <td>79</td>\n",
       "      <td>50196</td>\n",
       "      <td>2</td>\n",
       "    </tr>\n",
       "    <tr>\n",
       "      <th>3</th>\n",
       "      <td>2</td>\n",
       "      <td>0</td>\n",
       "      <td>4</td>\n",
       "      <td>1</td>\n",
       "      <td>18</td>\n",
       "      <td>0</td>\n",
       "      <td>12</td>\n",
       "      <td>3</td>\n",
       "      <td>8</td>\n",
       "      <td>3</td>\n",
       "      <td>75</td>\n",
       "      <td>16835</td>\n",
       "      <td>1</td>\n",
       "    </tr>\n",
       "    <tr>\n",
       "      <th>4</th>\n",
       "      <td>1</td>\n",
       "      <td>1</td>\n",
       "      <td>1</td>\n",
       "      <td>3</td>\n",
       "      <td>17</td>\n",
       "      <td>0</td>\n",
       "      <td>11</td>\n",
       "      <td>5</td>\n",
       "      <td>75</td>\n",
       "      <td>5</td>\n",
       "      <td>40</td>\n",
       "      <td>27940</td>\n",
       "      <td>2</td>\n",
       "    </tr>\n",
       "  </tbody>\n",
       "</table>\n",
       "</div>"
      ],
      "text/plain": [
       "   Okul  Okul Türü  Okul Konumu  Öğrenci İsmi  Öğrenci Yaşı  \\\n",
       "0     3          2            0             6            15   \n",
       "1     1          0            3             7            18   \n",
       "2     2          0            3             3            16   \n",
       "3     2          0            4             1            18   \n",
       "4     1          1            1             3            17   \n",
       "\n",
       "   Öğrenci Cinsiyeti  Öğrenci Sınıfı  Ders Adı  Ders Notu  Öğretmen Adı  \\\n",
       "0                  1              11         4         15             4   \n",
       "1                  1              11         1         60             1   \n",
       "2                  1               9         0         55             0   \n",
       "3                  0              12         3          8             3   \n",
       "4                  0              11         5         75             5   \n",
       "\n",
       "   Öğretmen Performansı  Aile Gelir Düzeyi  Aile Eğitim Seviyesi  \n",
       "0                    88              90734                     2  \n",
       "1                    14               6698                     3  \n",
       "2                    79              50196                     2  \n",
       "3                    75              16835                     1  \n",
       "4                    40              27940                     2  "
      ]
     },
     "execution_count": 82,
     "metadata": {},
     "output_type": "execute_result"
    }
   ],
   "source": [
    "dataset.head()"
   ]
  },
  {
   "cell_type": "markdown",
   "id": "69227b3e-2b4d-41f9-936e-21cf7a96a2c8",
   "metadata": {},
   "source": [
    "### H0: Öğrenci ders notu ve aile gelir düzeyi arasında bir bağlantı yoktur.\n",
    "### H1: Öğrenci ders notu ve aile gelir düzeyi arasında bir bağlantı vardır."
   ]
  },
  {
   "cell_type": "code",
   "execution_count": 84,
   "id": "aca2696a-d9b7-4e14-bf2d-27fc71034b95",
   "metadata": {},
   "outputs": [],
   "source": [
    "# Örneklemleri oluşturalım.\n",
    "ders_notu = dataset['Ders Notu']\n",
    "gelir = dataset['Aile Gelir Düzeyi']"
   ]
  },
  {
   "cell_type": "code",
   "execution_count": 86,
   "id": "07dd34d9-e0d3-4a4b-8676-ac901d3c55a6",
   "metadata": {},
   "outputs": [
    {
     "name": "stdout",
     "output_type": "stream",
     "text": [
      "ders_notu isimli örneklem normal dağılmıyor.\n",
      "gelir isimli örneklem normal dağılmıyor.\n"
     ]
    }
   ],
   "source": [
    "# Normallik Varsayımı\n",
    "from scipy.stats import shapiro\n",
    "alpha = 0.05\n",
    "\n",
    "stat, p_value = shapiro(ders_notu)\n",
    "if p_value < alpha:\n",
    "    print('ders_notu isimli örneklem normal dağılmıyor.')\n",
    "else:\n",
    "    print('ders_notu isimli örneklem normal dağılıyor.')\n",
    "    \n",
    "stat, p_value = shapiro(gelir)\n",
    "if p_value < alpha:\n",
    "    print('gelir isimli örneklem normal dağılmıyor.')\n",
    "else:\n",
    "    print('gelir isimli örneklem normal dağılıyor.')"
   ]
  },
  {
   "cell_type": "markdown",
   "id": "a1f6a34c-ad7a-4553-b940-f131c2948a1f",
   "metadata": {},
   "source": [
    "### Örneklemler normal dağılım varsayımına uymadıkları için non-parametrik hipotez testi yapacağız. Hangi testi uygulayacağımıza senaryomuza göre karar vereceğiz. Bizim senaryomuzda, iki örneklem arasında bir ilişki olup olmadığını test etmek istediğimiz için korelasyon testi yapabiliriz. Fakat non-parametrik korelasyon testi yapacağımız için, Pearson Korelasyon testi değil, Spearman Korelasyon testi yapacağız."
   ]
  },
  {
   "cell_type": "code",
   "execution_count": 90,
   "id": "58d24afa-a40a-4c92-8c44-7cde774efa34",
   "metadata": {},
   "outputs": [
    {
     "name": "stdout",
     "output_type": "stream",
     "text": [
      "İstatistik Değeri:  0.03622250992968434\n",
      "P-Value:  0.25245809785214984\n",
      "---------------------------------------\n",
      "Öğrenci ders notu ve aile gelir düzeyi arasında bir bağlantı yoktur.\n"
     ]
    }
   ],
   "source": [
    "from scipy.stats import spearmanr\n",
    "alpha = 0.05\n",
    "\n",
    "stat, p_value = spearmanr(ders_notu, gelir)\n",
    "print('İstatistik Değeri: ', stat)\n",
    "print('P-Value: ', p_value)\n",
    "print('---------------------------------------')\n",
    "\n",
    "if p_value < alpha:\n",
    "    print('Öğrenci ders notu ve aile gelir düzeyi arasında bir bağlantı vardır.')\n",
    "else:\n",
    "    print('Öğrenci ders notu ve aile gelir düzeyi arasında bir bağlantı yoktur.')"
   ]
  },
  {
   "cell_type": "code",
   "execution_count": 95,
   "id": "904e535e-1efe-4939-9aa3-e39154ab0580",
   "metadata": {},
   "outputs": [
    {
     "data": {
      "text/plain": [
       "0.038980872761497025"
      ]
     },
     "execution_count": 95,
     "metadata": {},
     "output_type": "execute_result"
    }
   ],
   "source": [
    "# Test sonucunu test edelim.\n",
    "ders_notu.corr(gelir)"
   ]
  },
  {
   "cell_type": "markdown",
   "id": "f643688f-3a46-4fd7-ba9b-995f05d5c26b",
   "metadata": {},
   "source": [
    "# -----------------------------------------------------------------------------"
   ]
  },
  {
   "cell_type": "markdown",
   "id": "10367517-dbe3-4481-a9ee-ac0153d6d58b",
   "metadata": {},
   "source": [
    "# Model İşlemleri"
   ]
  },
  {
   "cell_type": "code",
   "execution_count": 97,
   "id": "91ffa08d-c00f-4857-bd29-6bf44fb4fa3b",
   "metadata": {},
   "outputs": [
    {
     "data": {
      "text/html": [
       "<div>\n",
       "<style scoped>\n",
       "    .dataframe tbody tr th:only-of-type {\n",
       "        vertical-align: middle;\n",
       "    }\n",
       "\n",
       "    .dataframe tbody tr th {\n",
       "        vertical-align: top;\n",
       "    }\n",
       "\n",
       "    .dataframe thead th {\n",
       "        text-align: right;\n",
       "    }\n",
       "</style>\n",
       "<table border=\"1\" class=\"dataframe\">\n",
       "  <thead>\n",
       "    <tr style=\"text-align: right;\">\n",
       "      <th></th>\n",
       "      <th>Okul</th>\n",
       "      <th>Okul Türü</th>\n",
       "      <th>Okul Konumu</th>\n",
       "      <th>Öğrenci İsmi</th>\n",
       "      <th>Öğrenci Yaşı</th>\n",
       "      <th>Öğrenci Cinsiyeti</th>\n",
       "      <th>Öğrenci Sınıfı</th>\n",
       "      <th>Ders Adı</th>\n",
       "      <th>Ders Notu</th>\n",
       "      <th>Öğretmen Adı</th>\n",
       "      <th>Öğretmen Performansı</th>\n",
       "      <th>Aile Gelir Düzeyi</th>\n",
       "      <th>Aile Eğitim Seviyesi</th>\n",
       "    </tr>\n",
       "  </thead>\n",
       "  <tbody>\n",
       "    <tr>\n",
       "      <th>0</th>\n",
       "      <td>3</td>\n",
       "      <td>2</td>\n",
       "      <td>0</td>\n",
       "      <td>6</td>\n",
       "      <td>15</td>\n",
       "      <td>1</td>\n",
       "      <td>11</td>\n",
       "      <td>4</td>\n",
       "      <td>15</td>\n",
       "      <td>4</td>\n",
       "      <td>88</td>\n",
       "      <td>90734</td>\n",
       "      <td>2</td>\n",
       "    </tr>\n",
       "    <tr>\n",
       "      <th>1</th>\n",
       "      <td>1</td>\n",
       "      <td>0</td>\n",
       "      <td>3</td>\n",
       "      <td>7</td>\n",
       "      <td>18</td>\n",
       "      <td>1</td>\n",
       "      <td>11</td>\n",
       "      <td>1</td>\n",
       "      <td>60</td>\n",
       "      <td>1</td>\n",
       "      <td>14</td>\n",
       "      <td>6698</td>\n",
       "      <td>3</td>\n",
       "    </tr>\n",
       "    <tr>\n",
       "      <th>2</th>\n",
       "      <td>2</td>\n",
       "      <td>0</td>\n",
       "      <td>3</td>\n",
       "      <td>3</td>\n",
       "      <td>16</td>\n",
       "      <td>1</td>\n",
       "      <td>9</td>\n",
       "      <td>0</td>\n",
       "      <td>55</td>\n",
       "      <td>0</td>\n",
       "      <td>79</td>\n",
       "      <td>50196</td>\n",
       "      <td>2</td>\n",
       "    </tr>\n",
       "    <tr>\n",
       "      <th>3</th>\n",
       "      <td>2</td>\n",
       "      <td>0</td>\n",
       "      <td>4</td>\n",
       "      <td>1</td>\n",
       "      <td>18</td>\n",
       "      <td>0</td>\n",
       "      <td>12</td>\n",
       "      <td>3</td>\n",
       "      <td>8</td>\n",
       "      <td>3</td>\n",
       "      <td>75</td>\n",
       "      <td>16835</td>\n",
       "      <td>1</td>\n",
       "    </tr>\n",
       "    <tr>\n",
       "      <th>4</th>\n",
       "      <td>1</td>\n",
       "      <td>1</td>\n",
       "      <td>1</td>\n",
       "      <td>3</td>\n",
       "      <td>17</td>\n",
       "      <td>0</td>\n",
       "      <td>11</td>\n",
       "      <td>5</td>\n",
       "      <td>75</td>\n",
       "      <td>5</td>\n",
       "      <td>40</td>\n",
       "      <td>27940</td>\n",
       "      <td>2</td>\n",
       "    </tr>\n",
       "  </tbody>\n",
       "</table>\n",
       "</div>"
      ],
      "text/plain": [
       "   Okul  Okul Türü  Okul Konumu  Öğrenci İsmi  Öğrenci Yaşı  \\\n",
       "0     3          2            0             6            15   \n",
       "1     1          0            3             7            18   \n",
       "2     2          0            3             3            16   \n",
       "3     2          0            4             1            18   \n",
       "4     1          1            1             3            17   \n",
       "\n",
       "   Öğrenci Cinsiyeti  Öğrenci Sınıfı  Ders Adı  Ders Notu  Öğretmen Adı  \\\n",
       "0                  1              11         4         15             4   \n",
       "1                  1              11         1         60             1   \n",
       "2                  1               9         0         55             0   \n",
       "3                  0              12         3          8             3   \n",
       "4                  0              11         5         75             5   \n",
       "\n",
       "   Öğretmen Performansı  Aile Gelir Düzeyi  Aile Eğitim Seviyesi  \n",
       "0                    88              90734                     2  \n",
       "1                    14               6698                     3  \n",
       "2                    79              50196                     2  \n",
       "3                    75              16835                     1  \n",
       "4                    40              27940                     2  "
      ]
     },
     "execution_count": 97,
     "metadata": {},
     "output_type": "execute_result"
    }
   ],
   "source": [
    "dataset.head()"
   ]
  },
  {
   "cell_type": "code",
   "execution_count": 98,
   "id": "ccf3ec56-7541-46ec-9ecc-d7c6c9141a66",
   "metadata": {},
   "outputs": [],
   "source": [
    "# bağımlı ve bağımsız değişkenlerimiz oluşturalım.\n",
    "X = dataset.drop('Ders Notu', axis=1)\n",
    "y = dataset['Ders Notu']"
   ]
  },
  {
   "cell_type": "markdown",
   "id": "2121023b-ddee-46e4-bf96-e45e9f92276a",
   "metadata": {},
   "source": [
    "### Şimdi bağımlı değişkenimiz normal dağılıyor mu dağılmıyor mu öğrenmek için normallik varsayımı testi yapacağız. Eğer bağımlı değişken normal dağılıyorsa, doğrusal regresyon modeli oluşturacağız. Fakat bağımlı değişken normal dağılmıyorsa, doğrusal olmayan regresyon modeli oluşturacağız."
   ]
  },
  {
   "cell_type": "code",
   "execution_count": 99,
   "id": "de61123e-a71b-4d4a-a2da-0ba84628b831",
   "metadata": {},
   "outputs": [
    {
     "name": "stdout",
     "output_type": "stream",
     "text": [
      "Bağımlı değişken normal dağılmıyor.\n"
     ]
    }
   ],
   "source": [
    "from scipy.stats import shapiro\n",
    "alpha = 0.05\n",
    "\n",
    "stat, p_value = shapiro(y)\n",
    "if p_value < alpha:\n",
    "    print('Bağımlı değişken normal dağılmıyor.')\n",
    "else:\n",
    "    print('Bağımlı değişken normal dağılıyor.')"
   ]
  },
  {
   "cell_type": "markdown",
   "id": "6f56e494-1202-42c2-b314-80d678f6fc43",
   "metadata": {},
   "source": [
    "### Bağımlı değişkenimiz normal dağılmadığı için doğrusal olmayan bir model kuracağız. KNN (En yakın komşular) regresyon modeli kurabiliriz."
   ]
  },
  {
   "cell_type": "code",
   "execution_count": 104,
   "id": "cd114fa2-c125-48dc-8a49-5e55b8980105",
   "metadata": {},
   "outputs": [],
   "source": [
    "from sklearn.neighbors import KNeighborsRegressor\n",
    "from sklearn.metrics import r2_score, mean_squared_error\n",
    "from sklearn.model_selection import train_test_split, GridSearchCV"
   ]
  },
  {
   "cell_type": "code",
   "execution_count": 105,
   "id": "7264dc7e-f602-4e8b-a9c1-f21dd0458896",
   "metadata": {},
   "outputs": [],
   "source": [
    "# eğitim ve test setlerini ayıralım.\n",
    "X_train, X_test, y_train, y_test = train_test_split(X, y, test_size=0.2, random_state=42)"
   ]
  },
  {
   "cell_type": "code",
   "execution_count": 107,
   "id": "729fe16b-f6b3-455b-b3d4-96f0fac105a9",
   "metadata": {},
   "outputs": [
    {
     "name": "stdout",
     "output_type": "stream",
     "text": [
      "Best Params:  {'algorithm': 'brute', 'leaf_size': 10, 'metric': 'manhattan', 'n_neighbors': 11, 'weights': 'uniform'}\n",
      "Best Score:  -0.08244658569786703\n"
     ]
    }
   ],
   "source": [
    "# Asıl modelimizi oluşturmadan hemen önce, en iyi model için hiperparametreleri tespit edelim.\n",
    "knn = KNeighborsRegressor()\n",
    "params = {\n",
    "    'n_neighbors':[3, 5, 7, 9, 11],\n",
    "    'weights': ['uniform', 'distance'],\n",
    "    'algorithm': ['ball_tree', 'kd_tree', 'brute'],\n",
    "    'metric': ['euclidean', 'manhattan', 'chebyshev'],\n",
    "    'leaf_size': [10, 20, 30, 40, 50]\n",
    "}\n",
    "grid_search = GridSearchCV(estimator=knn, param_grid=params, cv=5)\n",
    "grid_search.fit(X_train, y_train)\n",
    "\n",
    "print('Best Params: ', grid_search.best_params_)\n",
    "print('Best Score: ', grid_search.best_score_)"
   ]
  },
  {
   "cell_type": "code",
   "execution_count": 108,
   "id": "569a85b8-77b2-4678-985f-c667d3e94226",
   "metadata": {},
   "outputs": [
    {
     "name": "stdout",
     "output_type": "stream",
     "text": [
      "random_state=0 için R-Kare değeri: -0.08628509966342257\n",
      "random_state=10 için R-Kare değeri: -0.016987805021558167\n",
      "random_state=20 için R-Kare değeri: -0.08541387137334655\n",
      "random_state=42 için R-Kare değeri: -0.07741202403848302\n",
      "random_state=60 için R-Kare değeri: -0.10253026917271213\n",
      "random_state=80 için R-Kare değeri: -0.05950281720022588\n",
      "random_state=100 için R-Kare değeri: -0.1072576960314815\n"
     ]
    }
   ],
   "source": [
    "# En iyi random_state değerini bulalım.\n",
    "random_states = [0, 10, 20, 42, 60, 80, 100]\n",
    "\n",
    "for element in random_states:\n",
    "    X_train, X_test, y_train, y_test = train_test_split(X, y, test_size=0.2, random_state=element)\n",
    "    model = KNeighborsRegressor(algorithm='brute', leaf_size=10, metric='manhattan', n_neighbors=11, weights='uniform').fit(X_train, y_train)\n",
    "    y_pred = model.predict(X_test)\n",
    "    r2 = r2_score(y_test, y_pred)\n",
    "    mse = mean_squared_error(y_test, y_pred)\n",
    "    print(f'random_state={element} için R-Kare değeri: {r2}')"
   ]
  },
  {
   "cell_type": "markdown",
   "id": "b1b15009-d99e-4633-83ed-2fc5a0b5d0bf",
   "metadata": {},
   "source": [
    "### En iyi değerler için modelimizi oluşturalım."
   ]
  },
  {
   "cell_type": "code",
   "execution_count": 109,
   "id": "96dcd349-e28b-4e86-ba29-b8286ee722ce",
   "metadata": {},
   "outputs": [],
   "source": [
    "X_train, X_test, y_train, y_test = train_test_split(X, y, test_size=0.2, random_state=10)"
   ]
  },
  {
   "cell_type": "code",
   "execution_count": 110,
   "id": "dd4fceab-2a96-4e19-af64-6a37200e6238",
   "metadata": {},
   "outputs": [],
   "source": [
    "model = KNeighborsRegressor(algorithm='brute', leaf_size=10, metric='manhattan', n_neighbors=11, weights='uniform').fit(X_train, y_train)"
   ]
  },
  {
   "cell_type": "code",
   "execution_count": 111,
   "id": "3422700b-e711-4506-ae89-b89c3eb5c4fe",
   "metadata": {},
   "outputs": [],
   "source": [
    "y_pred = model.predict(X_test)"
   ]
  },
  {
   "cell_type": "code",
   "execution_count": 112,
   "id": "d7f87b3a-052c-474f-81b3-762dce6515ec",
   "metadata": {},
   "outputs": [
    {
     "name": "stdout",
     "output_type": "stream",
     "text": [
      "R-Kare Değeri:  -0.016987805021558167\n",
      "MSE Değeri:  877.9285537190084\n"
     ]
    }
   ],
   "source": [
    "r2 = r2_score(y_test, y_pred)\n",
    "mse = mean_squared_error(y_test, y_pred)\n",
    "\n",
    "print('R-Kare Değeri: ', r2)\n",
    "print('MSE Değeri: ', mse)"
   ]
  },
  {
   "cell_type": "markdown",
   "id": "b6dddb18-b316-474c-90ca-e800a8572837",
   "metadata": {},
   "source": [
    "# Sonuç\n",
    "\n",
    "### Veri setini kendimiz oluşturduğumuz için gerçek hayat senaryosunu temsil etmez. Sonuçlar da bunu gösteriyor. Fakat kullandığımız teknolojileri pratik etmek ve kendimizi geliştirmek için güzel bir uygulama oldu. Modeli daha da optimize edebilmek için değişken sayısını azaltmayı deneyebilir, eksik ve aykırı gözlem analizinde başka methodlar kullanabilir veya veri setini gerçek verilerden oluşturabiliriz."
   ]
  }
 ],
 "metadata": {
  "kernelspec": {
   "display_name": "Python 3 (ipykernel)",
   "language": "python",
   "name": "python3"
  },
  "language_info": {
   "codemirror_mode": {
    "name": "ipython",
    "version": 3
   },
   "file_extension": ".py",
   "mimetype": "text/x-python",
   "name": "python",
   "nbconvert_exporter": "python",
   "pygments_lexer": "ipython3",
   "version": "3.9.12"
  }
 },
 "nbformat": 4,
 "nbformat_minor": 5
}
